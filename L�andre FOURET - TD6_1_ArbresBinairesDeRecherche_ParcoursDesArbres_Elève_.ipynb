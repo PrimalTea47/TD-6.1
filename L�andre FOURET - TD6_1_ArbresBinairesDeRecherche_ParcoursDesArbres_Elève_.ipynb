{
  "cells": [
    {
      "cell_type": "markdown",
      "id": "krJhJZACyCSo",
      "metadata": {
        "id": "krJhJZACyCSo"
      },
      "source": [
        "\n",
        "#TD6.1.ArbresBinairesDeRecherche-ParcoursDesArbres\n",
        "\n",
        "\n",
        "\n",
        "\n",
        "\n",
        "\n",
        "<p align =center>\n",
        "\n",
        " <img src='https://github.com/esabahi/NSI_Images/blob/main/NSI-Image.png?raw=true' width=400>\n",
        "\n",
        "</p>\n",
        "\n",
        "\n"
      ]
    },
    {
      "cell_type": "markdown",
      "id": "L9Zj1T9IyYCm",
      "metadata": {
        "id": "L9Zj1T9IyYCm"
      },
      "source": [
        "\n",
        "> **<u>Objectifs</u>**\n",
        "\n",
        "-   Travailler les capacités abordées dans le cours et attendues par le\n",
        "    programme officiel sur la définition d’une structure de données en\n",
        "    Arbre et les algorithmes de parcours et de recherche.\n",
        "\n",
        "\n",
        "> **<u>Consignes:</u>**\n",
        "\n",
        "-   Vous pouvez exploiter le code Python de la classe Arbre vu\n",
        "    pendantle  cours C2.2.LesArbres ou le TP2.2\n",
        "\n",
        "-   N'oubliez pas de commenter votre code et de laisser les différents\n",
        "    tests que vous auriez effectués sur votre code."
      ]
    },
    {
      "cell_type": "markdown",
      "id": "Yn2dkDtdy_ql",
      "metadata": {
        "id": "Yn2dkDtdy_ql"
      },
      "source": [
        "\n",
        "\n",
        "**Exercice 1 : Arbres Binaires De Recherche**\n",
        "\n",
        " **<u>Définition:</u>**\n",
        "\n",
        "Un arbre binaire de recherche ABR (**Binary Search Tree (BST) en\n",
        "anglais)** est un arbre binaire étiqueté avec des clés tel que:\n",
        "\n",
        "-   Les clés du sous arbre gauche sont inférieures ou égales à celle de\n",
        "  la racine;\n",
        "\n",
        "-   Les clés du sous arbre droit sont strictement supérieures à celle de\n",
        "  la racine;\n",
        "\n",
        "-   Les deux sous arbres sont eux-mêmes des arbres binaires de\n",
        "    recherche.\n",
        "\n",
        "1.  **<u>Exploiter un arbre binaire de recherche</u>**\n",
        "\n",
        "    a.  Écrire une fonction **isaBST** qui indique si un arbre binaire\n",
        " est un arbre binaire de recherche\n"
      ]
    },
    {
      "cell_type": "code",
      "execution_count": 1,
      "id": "5vR68q7k0Bmv",
      "metadata": {
        "id": "5vR68q7k0Bmv"
      },
      "outputs": [],
      "source": [
        "#Ecrire votre code ci-dessous:\n",
        "\n",
        "def isaBST(arbre):\n",
        "    if arbre.filsGauche is not None:\n",
        "      if arbre.filsGauche.contenu > arbre.contenu or not arbre.filsGauche.isaBST():\n",
        "        return False\n",
        "\n",
        "    if arbre.filsDroit is not None:\n",
        "      if arbre.filsDroit.contenu <= arbre.contenu or not arbre.filsDroit.isaBST():\n",
        "        return False\n",
        "\n",
        "    return True"
      ]
    },
    {
      "cell_type": "markdown",
      "id": "vPE3GacS1Mhx",
      "metadata": {
        "id": "vPE3GacS1Mhx"
      },
      "source": [
        "2. Écrire une fonction **smallestElementBST** qui renvoie le plus petit élément d’un arbre binaire de recherche"
      ]
    },
    {
      "cell_type": "code",
      "execution_count": null,
      "id": "j1mAI4or26NK",
      "metadata": {
        "id": "j1mAI4or26NK"
      },
      "outputs": [],
      "source": [
        "#Ecrire votre code ci-dessous:\n",
        "\n",
        "def smallestElementBST(arbre): #Le premier plus petit est le fils tout à Gauche\n",
        "    if arbre.filsGauche is None:\n",
        "        return arbre.contenu\n",
        "    else:\n",
        "        return arbre.filsGauche.smallestElementBST()\n"
      ]
    },
    {
      "cell_type": "markdown",
      "id": "SDDT5Tgi2y__",
      "metadata": {
        "id": "SDDT5Tgi2y__"
      },
      "source": [
        "3.  Écrire une fonction **greatestElementBST** qui renvoie le plus grand élément d’un arbre binaire de recherche."
      ]
    },
    {
      "cell_type": "code",
      "execution_count": null,
      "id": "dX-nyyE824gN",
      "metadata": {
        "id": "dX-nyyE824gN"
      },
      "outputs": [],
      "source": [
        "#Ecrire votre code ci-dessous:\n",
        "\n",
        "def greatestElementBST(arbre): #même programme mais pour aller chercher celui tout à Droite\n",
        "    if arbre.filsDroit is None:\n",
        "        return arbre.contenu\n",
        "    else:\n",
        "        return arbre.filsDroit.greatestElementBST()"
      ]
    },
    {
      "cell_type": "markdown",
      "id": "QR493X7G265O",
      "metadata": {
        "id": "QR493X7G265O"
      },
      "source": [
        "4. Écrire un fonction **existElementBST** qui indique si une valeur donnée en paramètre est présente dans un arbre binaire de recherche.\n"
      ]
    },
    {
      "cell_type": "code",
      "execution_count": null,
      "id": "7oCuHgvB3CNI",
      "metadata": {
        "id": "7oCuHgvB3CNI"
      },
      "outputs": [],
      "source": [
        "#Ecrire votre code ci-dessous:\n",
        "\n",
        "def existElementBST(arbre,valeur:int):\n",
        "    \n",
        "    #vérifier si la valeur actuelle est valeur\n",
        "    if arbre.contenu == valeur:\n",
        "      return True\n",
        "    \n",
        "    #regarder sur les deux branches et toujours continuer programme\n",
        "    if arbre.filsDroit is not None and arbre.filsDroit.existElementBST(valeur):\n",
        "      return True\n",
        "    \n",
        "    if arbre.filsGauche is not None and arbre.filsGauche.existElementBST(valeur):\n",
        "      return True\n",
        "    \n",
        "    #si valeur n'est pas dans l'arbre\n",
        "    else:\n",
        "      return False"
      ]
    },
    {
      "cell_type": "markdown",
      "id": "Tj_UavXD3DAh",
      "metadata": {
        "id": "Tj_UavXD3DAh"
      },
      "source": [
        "5.  Écrire une fonction **insertElementBST** qui permet d'insérer un élément dans un arbre binaire de recherche.\n"
      ]
    },
    {
      "cell_type": "code",
      "execution_count": null,
      "id": "7BtNw4pS3GZp",
      "metadata": {
        "id": "7BtNw4pS3GZp"
      },
      "outputs": [],
      "source": [
        "#Ecrire votre code ci-dessous:\n",
        "\n",
        "def insertElementBST(arbre, valeur):\n",
        "    if valeur > arbre.contenu:\n",
        "        if arbre.filsDroit is None:\n",
        "            arbre.ajoutFilsDroit(valeur)\n",
        "        else:\n",
        "            arbre.filsDroit.insertElementBSD(valeur)\n",
        "        \n",
        "    elif valeur <= arbre.contenu:\n",
        "        if arbre.filsGauche is None:\n",
        "            arbre.ajoutFilsGauche(valeur)\n",
        "        else:\n",
        "            arbre.filsGauche.insertElementBSD(valeur)\n"
      ]
    },
    {
      "cell_type": "markdown",
      "id": "nOq6Qnu63LZ8",
      "metadata": {
        "id": "nOq6Qnu63LZ8"
      },
      "source": [
        "\n",
        "6.  Écrire une fonction **removeElementBST** qui permet de supprimer un élément dans un arbre binaire de recherche"
      ]
    },
    {
      "cell_type": "code",
      "execution_count": null,
      "id": "Pl-1sTfE3S2t",
      "metadata": {
        "id": "Pl-1sTfE3S2t"
      },
      "outputs": [],
      "source": [
        "#Ecrire votre code ci-dessous:\n",
        "\n",
        "def removeElementBST(arbre,valeur):\n",
        "\n",
        "    if arbre.contenu == valeur:\n",
        "        arbre.contenu = None\n",
        "        return f'{valeur} removed'\n",
        "\n",
        "    #si valeur actuelle trop grande, rechercher dans les fils Gauche. Sinon dans Droit.\n",
        "    if valeur < arbre.contenu:\n",
        "        if arbre.filsGauche is not None:\n",
        "            return arbre.filsGauche.removeElementBST(valeur)\n",
        "    \n",
        "    else:\n",
        "        if arbre.filsDroit is not None:\n",
        "            return arbre.filsDroit.removeElementBST(valeur)\n",
        "    \n",
        "    "
      ]
    },
    {
      "cell_type": "markdown",
      "id": "0UQq50eY3bxP",
      "metadata": {
        "id": "0UQq50eY3bxP"
      },
      "source": [
        "*Exercice 2 : Arbres représentant des expressions arithmétiques**\n",
        "\n",
        "Les quatres opérations +,-,/ et x sont des opérateurs binaires.\n",
        "\n",
        "Une expression ne comptant que ces opérations peut être représentée sous\n",
        "forme d’arbre binaire comportant deux sortes de nœuds: les noeuds\n",
        "internes sont des opérateurs et les feuilles sont des nombres.\n",
        "\n",
        "1.  **<u>Représentation</u>**\n",
        "\n",
        "Représenter par un dessin (sur Drawings par exemple) l’arbre de l’expression suivante (12x9)+(8-5). Joindre votre dessin à votre rendu.\n",
        "<br>VOIR L'IMAGE ARBRE_OP\n",
        "\n",
        "2.  **<u>Construction d’une instance</u>**\n",
        "\n",
        "En reprenant le code de la classe Arbre construire une instance E représentant l'expression précédente\n",
        "\n",
        "\n"
      ]
    },
    {
      "cell_type": "code",
      "execution_count": 4,
      "id": "LS-6QDsb3wki",
      "metadata": {
        "id": "LS-6QDsb3wki"
      },
      "outputs": [
        {
          "name": "stdout",
          "output_type": "stream",
          "text": [
            "[Contenu : + | Fils droit : [Contenu : - | Fils droit : [Contenu : 5 | Fils droit : None | Fils gauche : None] /  | Fils gauche : [Contenu : 8 | Fils droit : None | Fils gauche : None] / ] /  | Fils gauche : [Contenu : x | Fils droit : [Contenu : 9 | Fils droit : None | Fils gauche : None] /  | Fils gauche : [Contenu : 12 | Fils droit : None | Fils gauche : None] / ] / ] / \n"
          ]
        }
      ],
      "source": [
        "#Ecrire votre code ci-dessous:\n",
        "\n",
        "# Votre réponse ci-dessous :\n",
        "\n",
        "# méthode à rajouter à l'ensemble de la classe - copier coller l'écriture de la classe de la question précédente\n",
        "\n",
        "class ArbreBinaire:\n",
        "  def __init__(self, valeur):   \n",
        "    self.contenu = valeur \n",
        "    self.filsGauche = None        \n",
        "    self.filsDroit = None \n",
        "\n",
        "\n",
        "  def ajoutFilsGauche(self, valeur):\n",
        "    if self.filsGauche == None:\n",
        "       self.filsGauche = ArbreBinaire(valeur)  \n",
        "    else :\n",
        "       self.filsGauche.ajoutFilsGauche(valeur)\n",
        "    return self.filsGauche\n",
        "\n",
        "  def ajoutFilsDroit(self, valeur):\n",
        "    if self.filsDroit == None:\n",
        "      self.filsDroit = ArbreBinaire(valeur)\n",
        "    else :\n",
        "      self.filsDroit.ajoutFilsDroit(valeur)\n",
        "    return self.filsDroit\n",
        "\n",
        "\n",
        "#FIN DE LA COPIE\n",
        "\n",
        "\n",
        "  def __str__(self):\n",
        "    return f\"[Contenu : {self.contenu} | Fils droit : {self.filsDroit.__str__()} | Fils gauche : {self.filsGauche.__str__()}] / \"\n",
        "\n",
        "E = ArbreBinaire('+')\n",
        "fois = E.ajoutFilsGauche('x')\n",
        "moins = E.ajoutFilsDroit('-')\n",
        "fois.ajoutFilsGauche(12)\n",
        "fois.ajoutFilsDroit(9)\n",
        "\n",
        "moins.ajoutFilsGauche(8)\n",
        "moins.ajoutFilsDroit(5)\n",
        "\n",
        "print(E)"
      ]
    },
    {
      "cell_type": "markdown",
      "id": "-5ikPz063xQx",
      "metadata": {
        "id": "-5ikPz063xQx"
      },
      "source": [
        "\n",
        "3.  **<u>Parcours</u>**\n",
        "\n",
        "-   Choisir le parcours adéquat (parmi les quatre parcours vu en cours) qui permettra une lecture correcte de l’expression ci-dessus puis son affichage.\n",
        "\n",
        "-   Écrire la fonction permettant son affichage selon le parcours choisi."
      ]
    },
    {
      "cell_type": "code",
      "execution_count": 7,
      "id": "GQpK0wip36Pb",
      "metadata": {
        "id": "GQpK0wip36Pb"
      },
      "outputs": [
        {
          "name": "stdout",
          "output_type": "stream",
          "text": [
            "12 9 x 8 5 - + "
          ]
        }
      ],
      "source": [
        "#Ecrire votre code ci-dessous:\n",
        "\n",
        "#Je pense que le meilleur parcours est le parcours suffixe, car il permet de ragerder chaque calculs dans l'ordre un par un (comme l'expression donnée dans l'énoncé)\n",
        "#Cela fait d'ailleur penser à la calculatrice polonaise\n",
        "\n",
        "###COPIE EXO PRÉCÉDENT\n",
        "class ArbreBinaire:\n",
        "  def __init__(self, valeur):   \n",
        "    self.contenu = valeur \n",
        "    self.filsGauche = None        \n",
        "    self.filsDroit = None \n",
        "\n",
        "\n",
        "  def ajoutFilsGauche(self, valeur):\n",
        "    if self.filsGauche == None:\n",
        "       self.filsGauche = ArbreBinaire(valeur)  \n",
        "    else :\n",
        "       self.filsGauche.ajoutFilsGauche(valeur)\n",
        "    return self.filsGauche\n",
        "\n",
        "  def ajoutFilsDroit(self, valeur):\n",
        "    if self.filsDroit == None:\n",
        "      self.filsDroit = ArbreBinaire(valeur)\n",
        "    else :\n",
        "      self.filsDroit.ajoutFilsDroit(valeur)\n",
        "    return self.filsDroit\n",
        "  ##AJOUT FONCTION\n",
        "  def parcoursProfondeurSuffixe(self):\n",
        "        \n",
        "        if self.filsGauche is not None:\n",
        "            self.filsGauche.parcoursProfondeurSuffixe()\n",
        "    \n",
        "        if self.filsDroit is not None:\n",
        "            self.filsDroit.parcoursProfondeurSuffixe()\n",
        "    \n",
        "        print(self.contenu, end=\" \")\n",
        "\n",
        "\n",
        "#FIN DE LA COPIE\n",
        "\n",
        "\n",
        "  def __str__(self):\n",
        "    return f\"[Contenu : {self.contenu} | Fils droit : {self.filsDroit.__str__()} | Fils gauche : {self.filsGauche.__str__()}] / \"\n",
        "\n",
        "E = ArbreBinaire('+')\n",
        "fois = E.ajoutFilsGauche('x')\n",
        "moins = E.ajoutFilsDroit('-')\n",
        "fois.ajoutFilsGauche(12)\n",
        "fois.ajoutFilsDroit(9)\n",
        "\n",
        "moins.ajoutFilsGauche(8)\n",
        "moins.ajoutFilsDroit(5)\n",
        "\n",
        "E.parcoursProfondeurSuffixe()"
      ]
    },
    {
      "cell_type": "markdown",
      "id": "4DayQvQyT-9o",
      "metadata": {
        "id": "4DayQvQyT-9o"
      },
      "source": [
        "\n",
        "**Exercice 3 : Arbres syntaxiques**\n",
        "\n",
        "Python dispose d’une grammaire qui indique la structure des programmes.\n",
        "\n",
        "Lorsque l'interpréteur Python lit du code source, il construit tout\n",
        "d’abord l’arbre syntaxique du code.\n",
        "\n",
        "1.  **<u>Représentation</u>**\n",
        "\n",
        "> Dresser l’arbre du programme suivant sur un dessin(menu insertion Dessin):\n",
        "\n",
        "<br>REGARDER IMAGE ARBRE_SYNTAXIQUE"
      ]
    },
    {
      "cell_type": "code",
      "execution_count": 8,
      "id": "Ba697vMqUB1C",
      "metadata": {
        "id": "Ba697vMqUB1C"
      },
      "outputs": [
        {
          "name": "stdout",
          "output_type": "stream",
          "text": [
            "2\n",
            "1\n",
            "0\n"
          ]
        }
      ],
      "source": [
        "a=3\n",
        "while(a>0):\n",
        "  a=a-1\n",
        "  print(a)"
      ]
    },
    {
      "cell_type": "markdown",
      "id": "Y1tTemka3_YT",
      "metadata": {
        "id": "Y1tTemka3_YT"
      },
      "source": [
        "\n",
        "\n",
        "\n",
        "2.  **<u>Construction d’une instance</u>**\n",
        "\n",
        "> En reprenant le code de la classe Arbre construire une instance P représentant l’arbre du programme précédent.\n",
        "\n",
        "3.  **<u>Parcours</u>**\n",
        "\n",
        "-   Choisir le parcours adéquat (parmi les quatre parcours vu en cours) qui permettra une lecture correcte du programme.\n",
        "\n",
        "-   Écrire la fonction permettant son affichage selon le parcours choisi."
      ]
    },
    {
      "cell_type": "code",
      "execution_count": 17,
      "id": "ksJJNm9PT2Fw",
      "metadata": {
        "id": "ksJJNm9PT2Fw"
      },
      "outputs": [
        {
          "name": "stdout",
          "output_type": "stream",
          "text": [
            "Programme | a=3 | Tant que a > 0 | Ajouter 1 à a | Afficher a | "
          ]
        }
      ],
      "source": [
        "#Ecrire votre code ci-dessous:\n",
        "\n",
        "#Je pense que le parcours approprié est le parcours préfixe car il permet de lire le programme dans l'ordre\n",
        "\n",
        "class ArbreBinaire:\n",
        "  def __init__(self, valeur):   \n",
        "    self.contenu = valeur \n",
        "    self.filsGauche = None        \n",
        "    self.filsDroit = None \n",
        "\n",
        "\n",
        "  def ajoutFilsGauche(self, valeur):\n",
        "    if self.filsGauche == None:\n",
        "       self.filsGauche = ArbreBinaire(valeur)  \n",
        "    else :\n",
        "       self.filsGauche.ajoutFilsGauche(valeur)\n",
        "    return self.filsGauche\n",
        "\n",
        "  def ajoutFilsDroit(self, valeur):\n",
        "    if self.filsDroit == None:\n",
        "      self.filsDroit = ArbreBinaire(valeur)\n",
        "    else :\n",
        "      self.filsDroit.ajoutFilsDroit(valeur)\n",
        "    return self.filsDroit\n",
        "  ##AJOUT FONCTION\n",
        "  \n",
        "  def parcoursProfondeurPrefixe(self):\n",
        "        print(self.contenu, end=\" | \")\n",
        "        if self.filsGauche is not None:\n",
        "            self.filsGauche.parcoursProfondeurPrefixe()\n",
        "\n",
        "        if self.filsDroit is not None:\n",
        "            self.filsDroit.parcoursProfondeurPrefixe()\n",
        "\n",
        "\n",
        "#FIN DE LA COPIE\n",
        "\n",
        "\n",
        "  def __str__(self):\n",
        "    return f\"[Contenu : {self.contenu} |  Fils gauche : {self.filsGauche.__str__()}  |  Fils droit : {self.filsDroit.__str__()} ] / \"\n",
        "\n",
        "P = ArbreBinaire('Programme')\n",
        "P.ajoutFilsGauche('a=3')\n",
        "boucle_while = P.ajoutFilsDroit('Tant que a > 0')\n",
        "boucle_while.ajoutFilsGauche('Ajouter 1 à a')\n",
        "boucle_while.ajoutFilsDroit('Afficher a')\n",
        "\n",
        "P.parcoursProfondeurPrefixe()"
      ]
    },
    {
      "cell_type": "markdown",
      "id": "RunMWhnXz9n3",
      "metadata": {
        "id": "RunMWhnXz9n3"
      },
      "source": [
        "|<span style='color:Blue'> E.S |  | |   | |     |<span style='color:Blue'> NSI Première & Terminale | |   | ||<span style='color:Blue'> Lycée Ozanam (Lille)\n",
        "| --- | --- |--- |--- |--- |--- | --- | --- |--- |--- | --- | --- |"
      ]
    }
  ],
  "metadata": {
    "colab": {
      "provenance": []
    },
    "kernelspec": {
      "display_name": "Python 3",
      "language": "python",
      "name": "python3"
    },
    "language_info": {
      "codemirror_mode": {
        "name": "ipython",
        "version": 3
      },
      "file_extension": ".py",
      "mimetype": "text/x-python",
      "name": "python",
      "nbconvert_exporter": "python",
      "pygments_lexer": "ipython3",
      "version": "3.10.13"
    }
  },
  "nbformat": 4,
  "nbformat_minor": 5
}
